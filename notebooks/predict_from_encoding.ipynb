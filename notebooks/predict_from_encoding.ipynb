{
 "cells": [
  {
   "cell_type": "code",
   "execution_count": 6,
   "metadata": {
    "pycharm": {
     "is_executing": false
    }
   },
   "outputs": [
    {
     "name": "stdout",
     "output_type": "stream",
     "text": [
      "Found 1281167 images belonging to 1000 classes.\n"
     ]
    }
   ],
   "source": [
    "import os\n",
    "from keras import Model\n",
    "from keras.backend import categorical_crossentropy\n",
    "from keras.layers import Dense, Softmax\n",
    "from keras.optimizers import Adam\n",
    "from keras_preprocessing.image import ImageDataGenerator\n",
    "from models.AlexNetVAE import AlexNetVAE\n",
    "\n",
    "model = AlexNetVAE(input_dim=(224,224,3), log_dir=\"./logs\", z_dim=2000, kernel_visualization_layer=1, use_batch_norm=True, use_dropout=True, dropout_rate=0.3, feature_map_layers=[3], num_samples=5)\n",
    "model.load_weights('../results/alexnet_vae_zdim_2000/weights.h5')\n",
    "model = model.encoder\n",
    "for layer in model.layers:\n",
    "    layer.trainable = False\n",
    "model_input = model.inputs\n",
    "encoder_output = model.outputs\n",
    "dense = Dense(1000)(encoder_output[0])\n",
    "model_output = Softmax()(dense)\n",
    "\n",
    "classifier = Model(model_input, model_output)\n",
    "\n",
    "optimizer = Adam(lr=0.0001)\n",
    "classifier.compile(optimizer=optimizer, loss=categorical_crossentropy, metrics=['accuracy'])\n",
    "\n",
    "data_gen = ImageDataGenerator(rescale=1. / 255)\n",
    "training_data = data_gen.flow_from_directory(\n",
    "            directory=os.path.join('/Users/leo/Documents/Tesla/data', 'imagenet/ILSVRC/Data/CLS-LOC/train'),\n",
    "            target_size=(224,224), batch_size=32,\n",
    "            class_mode='categorical', interpolation='lanczos',\n",
    "            follow_links=True)\n"
   ]
  },
  {
   "cell_type": "code",
   "execution_count": 1,
   "metadata": {
    "pycharm": {
     "name": "#%%\n",
     "is_executing": false
    }
   },
   "outputs": [
    {
     "traceback": [
      "\u001b[0;31m---------------------------------------------------------------------------\u001b[0m",
      "\u001b[0;31mNameError\u001b[0m                                 Traceback (most recent call last)",
      "\u001b[0;32m<ipython-input-1-d1b9a56b5d6d>\u001b[0m in \u001b[0;36m<module>\u001b[0;34m\u001b[0m\n\u001b[1;32m      1\u001b[0m \u001b[0;32mimport\u001b[0m \u001b[0mmath\u001b[0m\u001b[0;34m\u001b[0m\u001b[0;34m\u001b[0m\u001b[0m\n\u001b[0;32m----> 2\u001b[0;31m \u001b[0msteps_per_epoch\u001b[0m \u001b[0;34m=\u001b[0m \u001b[0mmath\u001b[0m\u001b[0;34m.\u001b[0m\u001b[0mceil\u001b[0m\u001b[0;34m(\u001b[0m\u001b[0mtraining_data\u001b[0m\u001b[0;34m.\u001b[0m\u001b[0mn\u001b[0m \u001b[0;34m/\u001b[0m \u001b[0;36m32\u001b[0m\u001b[0;34m)\u001b[0m\u001b[0;34m\u001b[0m\u001b[0;34m\u001b[0m\u001b[0m\n\u001b[0m\u001b[1;32m      3\u001b[0m \u001b[0mclassifier\u001b[0m\u001b[0;34m.\u001b[0m\u001b[0mfit_generator\u001b[0m\u001b[0;34m(\u001b[0m\u001b[0mtraining_data\u001b[0m\u001b[0;34m,\u001b[0m \u001b[0mshuffle\u001b[0m\u001b[0;34m=\u001b[0m\u001b[0;32mTrue\u001b[0m\u001b[0;34m,\u001b[0m \u001b[0mepochs\u001b[0m\u001b[0;34m=\u001b[0m\u001b[0;36m100\u001b[0m\u001b[0;34m,\u001b[0m \u001b[0minitial_epoch\u001b[0m\u001b[0;34m=\u001b[0m\u001b[0;36m0\u001b[0m\u001b[0;34m,\u001b[0m\u001b[0msteps_per_epoch\u001b[0m\u001b[0;34m=\u001b[0m\u001b[0msteps_per_epoch\u001b[0m\u001b[0;34m)\u001b[0m\u001b[0;34m\u001b[0m\u001b[0;34m\u001b[0m\u001b[0m\n\u001b[1;32m      4\u001b[0m \u001b[0;34m\u001b[0m\u001b[0m\n\u001b[1;32m      5\u001b[0m \u001b[0;34m\u001b[0m\u001b[0m\n",
      "\u001b[0;31mNameError\u001b[0m: name 'training_data' is not defined"
     ],
     "ename": "NameError",
     "evalue": "name 'training_data' is not defined",
     "output_type": "error"
    }
   ],
   "source": [
    "import math\n",
    "steps_per_epoch = math.ceil(training_data.n / 32)\n",
    "classifier.fit_generator(training_data, shuffle=True, epochs=100, initial_epoch=0,steps_per_epoch=steps_per_epoch)\n"
   ]
  },
  {
   "cell_type": "code",
   "execution_count": null,
   "metadata": {},
   "outputs": [],
   "source": []
  }
 ],
 "metadata": {
  "kernelspec": {
   "display_name": "Python 3",
   "language": "python",
   "name": "python3"
  },
  "language_info": {
   "codemirror_mode": {
    "name": "ipython",
    "version": 3
   },
   "file_extension": ".py",
   "mimetype": "text/x-python",
   "name": "python",
   "nbconvert_exporter": "python",
   "pygments_lexer": "ipython3",
   "version": "3.6.8"
  },
  "pycharm": {
   "stem_cell": {
    "cell_type": "raw",
    "source": [],
    "metadata": {
     "collapsed": false
    }
   }
  }
 },
 "nbformat": 4,
 "nbformat_minor": 1
}