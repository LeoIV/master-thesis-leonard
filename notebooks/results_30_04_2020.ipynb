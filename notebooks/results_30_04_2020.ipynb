{
 "cells": [
  {
   "cell_type": "code",
   "execution_count": 7,
   "metadata": {
    "collapsed": true
   },
   "outputs": [
    {
     "name": "stderr",
     "output_type": "stream",
     "text": [
      "/Users/leo/.local/share/virtualenvs/Master_Thesis-iDondhVg/lib/python3.6/site-packages/keras/engine/saving.py:292: UserWarning: No training configuration found in save file: the model was *not* compiled. Compile it manually.\n",
      "  warnings.warn('No training configuration found in save file: '\n"
     ]
    }
   ],
   "source": [
    "from keras.engine.saving import load_model\n",
    "from models.VLAE import VLAE\n",
    "from models.VLAE_GAN import VLAEGAN\n",
    "\n",
    "model = load_model(\"/Users/leo/Downloads/vae_gan_mnist.h5\")"
   ]
  },
  {
   "cell_type": "code",
   "execution_count": 8,
   "outputs": [
    {
     "data": {
      "text/plain": "[<tf.Tensor 'decoder_input:0' shape=(?, 2) dtype=float32>]"
     },
     "execution_count": 8,
     "metadata": {},
     "output_type": "execute_result"
    }
   ],
   "source": [
    "decoder = model.layers[-1]\n",
    "decoder.inputs"
   ],
   "metadata": {
    "collapsed": false,
    "pycharm": {
     "name": "#%%\n"
    }
   }
  },
  {
   "cell_type": "code",
   "execution_count": 9,
   "metadata": {
    "pycharm": {
     "name": "#%%\n"
    }
   },
   "outputs": [],
   "source": [
    "import numpy as np\n",
    "columns = 20\n",
    "from matplotlib import pyplot as plt\n",
    "rows = 20\n",
    "zs = []\n",
    "\n",
    "for i in range(-30, 30,3):\n",
    "    for j in range(-30, 30,3):\n",
    "        z1 = np.zeros((1,2))\n",
    "        z1[0] = np.array([i/10, j/10])\n",
    "        zs.append(z1)"
   ]
  },
  {
   "cell_type": "code",
   "execution_count": 11,
   "metadata": {
    "pycharm": {
     "name": "#%%\n"
    }
   },
   "outputs": [],
   "source": [
    "fig=plt.figure(figsize=(columns*1.5, rows*1.5))\n",
    "for i in range(400):\n",
    "    img = decoder.predict(zs[i]).squeeze()\n",
    "    fig.add_subplot(rows, columns, i+1)\n",
    "    plt.imshow(img, cmap='gray')\n",
    "    plt.axis('off')\n",
    "plt.savefig(\"pv.png\")\n",
    "plt.close(fig)"
   ]
  },
  {
   "cell_type": "code",
   "execution_count": null,
   "metadata": {
    "pycharm": {
     "name": "#%%\n"
    }
   },
   "outputs": [],
   "source": [
    "fig=plt.figure(figsize=(columns*1.5, rows*1.5))\n",
    "for i in range(400):\n",
    "    img = decoder.predict([np.random.uniform(-3,3,(1,2)),zs[i],np.random.uniform(-3,3,(1,2))]).squeeze()\n",
    "    fig.add_subplot(rows, columns, i+1)\n",
    "    plt.imshow(img, cmap='gray')\n",
    "    plt.axis('off')\n",
    "plt.savefig(\"pv2.png\")\n",
    "plt.close(fig)"
   ]
  },
  {
   "cell_type": "code",
   "execution_count": null,
   "metadata": {
    "pycharm": {
     "name": "#%%\n"
    }
   },
   "outputs": [],
   "source": [
    "fig=plt.figure(figsize=(columns*1.5, rows*1.5))\n",
    "for i in range(400):\n",
    "    img = decoder.predict([np.random.uniform(-3,3,(1,2)),np.random.uniform(-3,3,(1,2)),zs[i]]).squeeze()\n",
    "    fig.add_subplot(rows, columns, i+1)\n",
    "    plt.imshow(img, cmap='gray')\n",
    "    plt.axis('off')\n",
    "plt.savefig(\"pv3.png\")\n",
    "plt.close(fig)"
   ]
  },
  {
   "cell_type": "code",
   "execution_count": null,
   "metadata": {
    "pycharm": {
     "name": "#%%\n"
    }
   },
   "outputs": [],
   "source": []
  }
 ],
 "metadata": {
  "kernelspec": {
   "display_name": "Python 3",
   "language": "python",
   "name": "python3"
  },
  "language_info": {
   "codemirror_mode": {
    "name": "ipython",
    "version": 3
   },
   "file_extension": ".py",
   "mimetype": "text/x-python",
   "name": "python",
   "nbconvert_exporter": "python",
   "pygments_lexer": "ipython3",
   "version": "3.6.8"
  }
 },
 "nbformat": 4,
 "nbformat_minor": 1
}