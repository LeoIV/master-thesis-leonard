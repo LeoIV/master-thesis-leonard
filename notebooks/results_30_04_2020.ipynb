{
 "cells": [
  {
   "cell_type": "code",
   "execution_count": 4,
   "metadata": {
    "collapsed": true
   },
   "outputs": [],
   "source": [
    "from models.HVAE import HVAE\n",
    "from models.VLAE import VLAE\n",
    "\n",
    "model = VLAE(input_dim=(28,28,1), log_dir='results', kernel_visualization_layer=1, num_samples=10, feature_map_layers=[], inner_activation=\"ReLU\", decay_rate=0.3, feature_map_reduction_factor=1, z_dims=[2,2,2], dropout_rate=0.3)\n",
    "model.load_weights(\"/Users/leo/Downloads/vlae_dsprites.h5\")"
   ]
  },
  {
   "cell_type": "code",
   "execution_count": 5,
   "metadata": {
    "pycharm": {
     "name": "#%%\n"
    }
   },
   "outputs": [],
   "source": [
    "import numpy as np\n",
    "from matplotlib import pyplot as plt\n",
    "columns = 20\n",
    "rows = 20\n",
    "zs = []\n",
    "\n",
    "for i in range(-30, 30,3):\n",
    "    for j in range(-30, 30,3):\n",
    "        z1 = np.zeros((1,2))\n",
    "        z1[0] = np.array([i/10, j/10])\n",
    "        zs.append(z1)"
   ]
  },
  {
   "cell_type": "code",
   "execution_count": 7,
   "metadata": {
    "pycharm": {
     "name": "#%%\n"
    }
   },
   "outputs": [],
   "source": [
    "fig=plt.figure(figsize=(columns*1.5, rows*1.5))\n",
    "for i in range(400):\n",
    "    img = model.decoder.predict([zs[i],np.random.uniform(-3,3,(1,2)), np.random.uniform(-3,3,(1,2))]).squeeze()\n",
    "    fig.add_subplot(rows, columns, i+1)\n",
    "    plt.imshow(img, cmap='gray')\n",
    "    plt.axis('off')\n",
    "plt.savefig(\"plots1.png\")\n",
    "plt.close(fig)"
   ]
  },
  {
   "cell_type": "code",
   "execution_count": 8,
   "metadata": {
    "pycharm": {
     "name": "#%%\n"
    }
   },
   "outputs": [],
   "source": [
    "fig=plt.figure(figsize=(columns*1.5, rows*1.5))\n",
    "for i in range(400):\n",
    "    img = model.decoder.predict([np.random.uniform(-3,3,(1,2)),zs[i],np.random.uniform(-3,3,(1,2))]).squeeze()\n",
    "    fig.add_subplot(rows, columns, i+1)\n",
    "    plt.imshow(img, cmap='gray')\n",
    "    plt.axis('off')\n",
    "plt.savefig(\"plots2.png\")\n",
    "plt.close(fig)"
   ]
  },
  {
   "cell_type": "code",
   "execution_count": 9,
   "metadata": {
    "pycharm": {
     "name": "#%%\n"
    }
   },
   "outputs": [],
   "source": [
    "fig=plt.figure(figsize=(columns*1.5, rows*1.5))\n",
    "for i in range(400):\n",
    "    img = model.decoder.predict([np.random.uniform(-3,3,(1,2)),np.random.uniform(-3,3,(1,2)),zs[i]]).squeeze()\n",
    "    fig.add_subplot(rows, columns, i+1)\n",
    "    plt.imshow(img, cmap='gray')\n",
    "    plt.axis('off')\n",
    "plt.savefig(\"plots3.png\")\n",
    "plt.close(fig)"
   ]
  },
  {
   "cell_type": "code",
   "execution_count": null,
   "metadata": {
    "pycharm": {
     "name": "#%%\n"
    }
   },
   "outputs": [],
   "source": []
  }
 ],
 "metadata": {
  "kernelspec": {
   "display_name": "Python 3",
   "language": "python",
   "name": "python3"
  },
  "language_info": {
   "codemirror_mode": {
    "name": "ipython",
    "version": 3
   },
   "file_extension": ".py",
   "mimetype": "text/x-python",
   "name": "python",
   "nbconvert_exporter": "python",
   "pygments_lexer": "ipython3",
   "version": "3.6.8"
  }
 },
 "nbformat": 4,
 "nbformat_minor": 1
}