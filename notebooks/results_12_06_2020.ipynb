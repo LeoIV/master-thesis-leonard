{
 "cells": [
  {
   "cell_type": "code",
   "execution_count": 10,
   "metadata": {},
   "outputs": [
    {
     "name": "stderr",
     "output_type": "stream",
     "text": [
      "/Users/leo/.local/share/virtualenvs/Master_Thesis-iDondhVg/lib/python3.6/site-packages/keras/engine/saving.py:292: UserWarning: No training configuration found in save file: the model was *not* compiled. Compile it manually.\n",
      "  warnings.warn('No training configuration found in save file: '\n"
     ]
    }
   ],
   "source": [
    "import keras\n",
    "vlaegan = keras.models.load_model('/Users/leo/Downloads/vlae_gan_128_celeba.h5')\n",
    "vlaegan_decoder = vlaegan.layers[-1]\n"
   ]
  },
  {
   "cell_type": "code",
   "execution_count": 14,
   "metadata": {
    "pycharm": {
     "name": "#%%\n"
    }
   },
   "outputs": [
    {
     "data": {
      "application/vnd.jupyter.widget-view+json": {
       "model_id": "f0870714cd064d74a7b6cdfa2aad4f9e",
       "version_major": 2,
       "version_minor": 0
      },
      "text/plain": [
       "HBox(children=(FloatProgress(value=0.0, max=30.0), HTML(value='')))"
      ]
     },
     "metadata": {},
     "output_type": "display_data"
    },
    {
     "name": "stdout",
     "output_type": "stream",
     "text": [
      "\n"
     ]
    }
   ],
   "source": [
    "from tqdm.notebook import trange, tqdm\n",
    "import numpy as np\n",
    "from matplotlib import pyplot as plt\n",
    "fig = plt.figure(figsize=(300, 300))\n",
    "\n",
    "columns = 30\n",
    "rows = 30\n",
    "\n",
    "for i in trange(columns):\n",
    "    for j in range(rows):\n",
    "        z1 = np.ones((1,2))\n",
    "        z2 = np.random.uniform(-3,3,(1,2))\n",
    "        z3 = np.random.uniform(-3,3,(1,2))\n",
    "        z1[0][0] = i/5-3\n",
    "        z1[0][1] = j/5-3\n",
    "        img = vlaegan_decoder.predict([z1,z2,z3]).squeeze()\n",
    "        fig.add_subplot(rows,columns, j*columns+i+1)\n",
    "        plt.imshow(img)\n",
    "        plt.axis('off')\n",
    "plt.savefig('aa.png')\n",
    "plt.close(fig)"
   ]
  },
  {
   "cell_type": "code",
   "execution_count": 15,
   "metadata": {
    "pycharm": {
     "name": "#%%\n"
    }
   },
   "outputs": [
    {
     "data": {
      "application/vnd.jupyter.widget-view+json": {
       "model_id": "335c77d96b764833841d2d5f99e931d2",
       "version_major": 2,
       "version_minor": 0
      },
      "text/plain": [
       "HBox(children=(FloatProgress(value=0.0, max=30.0), HTML(value='')))"
      ]
     },
     "metadata": {},
     "output_type": "display_data"
    },
    {
     "name": "stdout",
     "output_type": "stream",
     "text": [
      "\n"
     ]
    }
   ],
   "source": [
    "fig = plt.figure(figsize=(300, 300))\n",
    "\n",
    "for i in trange(columns):\n",
    "    for j in range(rows):\n",
    "        z1 = np.random.uniform(-3,3,(1,2))\n",
    "        z2 = np.random.uniform(-3,3,(1,2))\n",
    "        z3 = np.random.uniform(-3,3,(1,2))\n",
    "        z2[0][0] = i/5-3\n",
    "        z2[0][1] = j/5-3\n",
    "        img = vlaegan_decoder.predict([z1,z2,z3]).squeeze()\n",
    "        fig.add_subplot(rows,columns, j*columns+i+1)\n",
    "        plt.imshow(img)\n",
    "        plt.axis('off')\n",
    "plt.savefig('bb.png')\n",
    "plt.close(fig)\n"
   ]
  },
  {
   "cell_type": "code",
   "execution_count": 16,
   "metadata": {},
   "outputs": [
    {
     "data": {
      "application/vnd.jupyter.widget-view+json": {
       "model_id": "77d3eeb34c664f0db94ac8508b608da9",
       "version_major": 2,
       "version_minor": 0
      },
      "text/plain": [
       "HBox(children=(FloatProgress(value=0.0, max=30.0), HTML(value='')))"
      ]
     },
     "metadata": {},
     "output_type": "display_data"
    },
    {
     "name": "stdout",
     "output_type": "stream",
     "text": [
      "\n"
     ]
    }
   ],
   "source": [
    "fig = plt.figure(figsize=(300, 300))\n",
    "\n",
    "for i in trange(columns):\n",
    "    for j in range(rows):\n",
    "        z1 = np.random.uniform(-3,3,(1,2))\n",
    "        z2 = np.random.uniform(-3,3,(1,2))\n",
    "        z3 = np.random.uniform(-3,3,(1,2))\n",
    "        z3[0][0] = i/5-3\n",
    "        z3[0][1] = j/5-3\n",
    "        img = vlaegan_decoder.predict([z1,z2,z3]).squeeze()\n",
    "        fig.add_subplot(rows,columns, j*columns+i+1)\n",
    "        plt.imshow(img)\n",
    "        plt.axis('off')\n",
    "plt.savefig('cc.png')\n",
    "plt.close(fig)"
   ]
  },
  {
   "cell_type": "code",
   "execution_count": null,
   "metadata": {},
   "outputs": [],
   "source": []
  }
 ],
 "metadata": {
  "kernelspec": {
   "display_name": "Python 3",
   "language": "python",
   "name": "python3"
  },
  "language_info": {
   "codemirror_mode": {
    "name": "ipython",
    "version": 3
   },
   "file_extension": ".py",
   "mimetype": "text/x-python",
   "name": "python",
   "nbconvert_exporter": "python",
   "pygments_lexer": "ipython3",
   "version": "3.6.8"
  }
 },
 "nbformat": 4,
 "nbformat_minor": 1
}