{
 "cells": [
  {
   "cell_type": "code",
   "execution_count": 21,
   "metadata": {
    "collapsed": true,
    "pycharm": {
     "is_executing": false
    }
   },
   "outputs": [
    {
     "name": "stdout",
     "text": [
      "__________________________________________________________________________________________________\n",
      "Layer (type)                    Output Shape         Param #     Connected to                     \n",
      "==================================================================================================\n",
      "encoder_input (InputLayer)      (None, 128, 128, 1)  0                                            \n",
      "__________________________________________________________________________________________________\n",
      "encoder_conv_0 (Conv2D)         (None, 64, 64, 32)   320         encoder_input[0][0]              \n",
      "__________________________________________________________________________________________________\n",
      "batch_normalization_92 (BatchNo (None, 64, 64, 32)   128         encoder_conv_0[0][0]             \n",
      "__________________________________________________________________________________________________\n",
      "leaky_re_lu_120 (LeakyReLU)     (None, 64, 64, 32)   0           batch_normalization_92[0][0]     \n",
      "__________________________________________________________________________________________________\n",
      "dropout_99 (Dropout)            (None, 64, 64, 32)   0           leaky_re_lu_120[0][0]            \n",
      "__________________________________________________________________________________________________\n",
      "encoder_conv_1 (Conv2D)         (None, 32, 32, 64)   18496       dropout_99[0][0]                 \n",
      "__________________________________________________________________________________________________\n",
      "batch_normalization_93 (BatchNo (None, 32, 32, 64)   256         encoder_conv_1[0][0]             \n",
      "__________________________________________________________________________________________________\n",
      "leaky_re_lu_121 (LeakyReLU)     (None, 32, 32, 64)   0           batch_normalization_93[0][0]     \n",
      "__________________________________________________________________________________________________\n",
      "dropout_100 (Dropout)           (None, 32, 32, 64)   0           leaky_re_lu_121[0][0]            \n",
      "__________________________________________________________________________________________________\n",
      "encoder_conv_2 (Conv2D)         (None, 16, 16, 64)   36928       dropout_100[0][0]                \n",
      "__________________________________________________________________________________________________\n",
      "batch_normalization_94 (BatchNo (None, 16, 16, 64)   256         encoder_conv_2[0][0]             \n",
      "__________________________________________________________________________________________________\n",
      "leaky_re_lu_122 (LeakyReLU)     (None, 16, 16, 64)   0           batch_normalization_94[0][0]     \n",
      "__________________________________________________________________________________________________\n",
      "dropout_101 (Dropout)           (None, 16, 16, 64)   0           leaky_re_lu_122[0][0]            \n",
      "__________________________________________________________________________________________________\n",
      "encoder_conv_3 (Conv2D)         (None, 8, 8, 64)     36928       dropout_101[0][0]                \n",
      "__________________________________________________________________________________________________\n",
      "batch_normalization_95 (BatchNo (None, 8, 8, 64)     256         encoder_conv_3[0][0]             \n",
      "__________________________________________________________________________________________________\n",
      "leaky_re_lu_123 (LeakyReLU)     (None, 8, 8, 64)     0           batch_normalization_95[0][0]     \n",
      "__________________________________________________________________________________________________\n",
      "dropout_102 (Dropout)           (None, 8, 8, 64)     0           leaky_re_lu_123[0][0]            \n",
      "__________________________________________________________________________________________________\n",
      "flatten_18 (Flatten)            (None, 4096)         0           dropout_102[0][0]                \n",
      "__________________________________________________________________________________________________\n",
      "mu (Dense)                      (None, 10)           40970       flatten_18[0][0]                 \n",
      "__________________________________________________________________________________________________\n",
      "log_var (Dense)                 (None, 10)           40970       flatten_18[0][0]                 \n",
      "__________________________________________________________________________________________________\n",
      "encoder_output (Lambda)         (None, 10)           0           mu[0][0]                         \n",
      "                                                                 log_var[0][0]                    \n",
      "==================================================================================================\n",
      "Total params: 175,508\n",
      "Trainable params: 175,060\n",
      "Non-trainable params: 448\n",
      "__________________________________________________________________________________________________\n",
      "Visualizing feature maps for layer 3\n",
      "1/1 [==============================] - 1s 1s/step\n",
      "Visualizing feature maps for layer 7\n",
      "1/1 [==============================] - 2s 2s/step\n",
      "Visualizing feature maps for layer 11\n",
      "1/1 [==============================] - 1s 1s/step\n",
      "Visualizing feature maps for layer 15\n",
      "1/1 [==============================] - 2s 2s/step\n",
      "Visualizing feature maps for layer 3\n",
      "1/1 [==============================] - 2s 2s/step\n",
      "Visualizing feature maps for layer 7\n",
      "1/1 [==============================] - 1s 1s/step\n",
      "Visualizing feature maps for layer 11\n",
      "1/1 [==============================] - 2s 2s/step\n",
      "Visualizing feature maps for layer 15\n",
      "1/1 [==============================] - 2s 2s/step\n"
     ],
     "output_type": "stream"
    }
   ],
   "source": [
    "from callbacks.FeatureMapVisualizationCallback import FeatureMapVisualizationCallback\n",
    "from models.VAE import VariationalAutoencoder\n",
    "import numpy as np\n",
    "vae = VariationalAutoencoder(use_dropout=True,use_batch_norm=True,input_dim=(128,128,1),log_dir=\"egal\", kernel_visualization_layer=1, num_samples=5, feature_map_layers=[3,6,9,12], inner_activation=\"LeakyReLU\", decay_rate=0.3, feature_map_reduction_factor=1, z_dims=[10], dropout_rate=0.3, encoder_conv_filters=[32, 64, 64, 64],encoder_conv_kernel_size=[3, 3, 3, 3], encoder_conv_strides=[2, 2, 2, 2],decoder_conv_t_filters=[64, 64, 32, 1],decoder_conv_t_kernel_size=[3, 3, 3, 3],decoder_conv_t_strides=[2, 2, 2, 2],)\n",
    "vae.load_weights('../logs/weights/weights.h5')\n",
    "vae.encoder.summary()\n",
    "s1 = np.zeros((128,128,1))\n",
    "s2 = np.ones((128,128,1))\n",
    "samples = np.stack((s1, s2))\n",
    "fmvc = FeatureMapVisualizationCallback(log_dir=\"fms\", model_wrapper=vae, print_every_n_batches=1, layer_idxs=[3,7,11,15], x_train=samples, num_samples=2)\n",
    "fmvc.on_batch_end(1)\n",
    "for f in fmvc.futures:\n",
    "    f.result()"
   ]
  },
  {
   "cell_type": "code",
   "execution_count": null,
   "outputs": [],
   "source": [
    "\n"
   ],
   "metadata": {
    "collapsed": false,
    "pycharm": {
     "name": "#%%\n"
    }
   }
  }
 ],
 "metadata": {
  "kernelspec": {
   "display_name": "Python 3",
   "language": "python",
   "name": "python3"
  },
  "language_info": {
   "codemirror_mode": {
    "name": "ipython",
    "version": 2
   },
   "file_extension": ".py",
   "mimetype": "text/x-python",
   "name": "python",
   "nbconvert_exporter": "python",
   "pygments_lexer": "ipython2",
   "version": "2.7.6"
  },
  "pycharm": {
   "stem_cell": {
    "cell_type": "raw",
    "source": [],
    "metadata": {
     "collapsed": false
    }
   }
  }
 },
 "nbformat": 4,
 "nbformat_minor": 0
}