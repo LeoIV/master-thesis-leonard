{
 "cells": [
  {
   "cell_type": "code",
   "execution_count": 30,
   "metadata": {
    "collapsed": true,
    "pycharm": {
     "is_executing": false
    }
   },
   "outputs": [],
   "source": [
    "from models.HVAE import HVAE\n",
    "from models.VLAE import VLAE\n",
    "\n",
    "model = HVAE(input_dim=(28,28,1), log_dir='results', kernel_visualization_layer=1, num_samples=10, feature_map_layers=[], inner_activation=\"ReLU\", decay_rate=0.3, feature_map_reduction_factor=1, z_dims=[2,2,2], dropout_rate=0.3)\n",
    "model.load_weights(\"../logs/weights/weights.h5\")"
   ]
  },
  {
   "cell_type": "code",
   "execution_count": 31,
   "outputs": [],
   "source": [
    "import numpy as np\n",
    "from matplotlib import pyplot as plt\n",
    "columns = 20\n",
    "rows = 20\n",
    "zs = []\n",
    "\n",
    "for i in range(-30, 30,3):\n",
    "    for j in range(-30, 30,3):\n",
    "        z1 = np.zeros((1,2))\n",
    "        z1[0] = np.array([i/10, j/10])\n",
    "        zs.append(z1)"
   ],
   "metadata": {
    "collapsed": false,
    "pycharm": {
     "name": "#%%\n",
     "is_executing": false
    }
   }
  },
  {
   "cell_type": "code",
   "execution_count": 32,
   "outputs": [],
   "source": [
    "fig=plt.figure(figsize=(columns*1.5, rows*1.5))\n",
    "for i in range(400):\n",
    "    img = model.decoder.predict([zs[i], np.random.uniform(-1,1,(1,2)), np.random.uniform(-1,1,(1,2))]).squeeze()\n",
    "    fig.add_subplot(rows, columns, i+1)\n",
    "    plt.imshow(img, cmap='gray')\n",
    "    plt.axis('off')\n",
    "plt.savefig(\"plots1.png\")\n",
    "plt.close(fig)"
   ],
   "metadata": {
    "collapsed": false,
    "pycharm": {
     "name": "#%%\n",
     "is_executing": false
    }
   }
  },
  {
   "cell_type": "code",
   "execution_count": 33,
   "outputs": [],
   "source": [
    "fig=plt.figure(figsize=(columns*1.5, rows*1.5))\n",
    "for i in range(400):\n",
    "    img = model.decoder.predict([np.random.uniform(-1,1,(1,2)), zs[i], np.random.uniform(-1,1,(1,2))]).squeeze()\n",
    "    fig.add_subplot(rows, columns, i+1)\n",
    "    plt.imshow(img, cmap='gray')\n",
    "    plt.axis('off')\n",
    "plt.savefig(\"plots2.png\")\n",
    "plt.close(fig)"
   ],
   "metadata": {
    "collapsed": false,
    "pycharm": {
     "name": "#%%\n",
     "is_executing": false
    }
   }
  },
  {
   "cell_type": "code",
   "execution_count": 34,
   "outputs": [],
   "source": [
    "fig=plt.figure(figsize=(columns*1.5, rows*1.5))\n",
    "for i in range(400):\n",
    "    img = model.decoder.predict([np.random.uniform(-1,1,(1,2)), np.random.uniform(-1,1,(1,2)),zs[i]]).squeeze()\n",
    "    fig.add_subplot(rows, columns, i+1)\n",
    "    plt.imshow(img, cmap='gray')\n",
    "    plt.axis('off')\n",
    "plt.savefig(\"plots3.png\")\n",
    "plt.close(fig)"
   ],
   "metadata": {
    "collapsed": false,
    "pycharm": {
     "name": "#%%\n",
     "is_executing": false
    }
   }
  },
  {
   "cell_type": "code",
   "execution_count": null,
   "outputs": [],
   "source": [],
   "metadata": {
    "collapsed": false,
    "pycharm": {
     "name": "#%%\n"
    }
   }
  }
 ],
 "metadata": {
  "kernelspec": {
   "display_name": "Python 3",
   "language": "python",
   "name": "python3"
  },
  "language_info": {
   "codemirror_mode": {
    "name": "ipython",
    "version": 2
   },
   "file_extension": ".py",
   "mimetype": "text/x-python",
   "name": "python",
   "nbconvert_exporter": "python",
   "pygments_lexer": "ipython2",
   "version": "2.7.6"
  },
  "pycharm": {
   "stem_cell": {
    "cell_type": "raw",
    "source": [],
    "metadata": {
     "collapsed": false
    }
   }
  }
 },
 "nbformat": 4,
 "nbformat_minor": 0
}